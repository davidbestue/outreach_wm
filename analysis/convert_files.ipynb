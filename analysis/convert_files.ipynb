{
 "cells": [
  {
   "cell_type": "code",
   "execution_count": 117,
   "metadata": {},
   "outputs": [],
   "source": [
    "from linares_plot import *\n",
    "import statsmodels.formula.api as smf\n",
    "import os"
   ]
  },
  {
   "cell_type": "code",
   "execution_count": 118,
   "metadata": {},
   "outputs": [],
   "source": [
    "##convert the coordinates to the actual response\n",
    "pos0 = [0.4, 0]\n",
    "pos45=[0.25,0.25]\n",
    "pos90=[0,0.4]\n",
    "pos135=[-0.25,0.25]\n",
    "pos180=[-0.4,0]\n",
    "pos225=[-0.25,-0.25]\n",
    "pos270=[0,-0.4]\n",
    "pos315=[0.25,-0.25]\n",
    "\n",
    "coordinates_=[pos0, pos45, pos90, pos135, pos180, pos225, pos270, pos315]\n",
    "coordinates_angles=[0.,45.,90.,135.,180.,225.,270.,315.]\n",
    "\n",
    "def euclidean_distance(p1, p2):\n",
    "    #p1=np.array([0,0.5])\n",
    "    #p2=np.array([-0.1,0.4])\n",
    "    return np.sqrt(np.sum(np.square(p1 - p2)))"
   ]
  },
  {
   "cell_type": "code",
   "execution_count": 119,
   "metadata": {},
   "outputs": [
    {
     "data": {
      "text/plain": [
       "['Adriana G_task_2021-04-10_12h23.38.261.csv',\n",
       " 'Ana Nizet_task_2021-04-10_12h31.09.323.csv',\n",
       " 'Andrea B_task_2021-04-10_12h23.37.811.csv',\n",
       " 'Anna J_task_2021-04-10_12h23.21.613.csv',\n",
       " 'Anna S_task_2021-04-10_12h24.53.028.csv',\n",
       " 'BruG_task_2021-04-10_12h24.00.095.csv',\n",
       " 'Carla J._task_2021-04-10_11h24.17.595.csv',\n",
       " 'Clodagh O_task_2021-04-10_12h23.42.438.csv',\n",
       " 'Emma S_task_2021-04-10_12h23.54.820.csv',\n",
       " 'Eva T_task_2021-04-10_12h24.10.367.csv',\n",
       " 'Gala C_task_2021-04-10_12h24.00.778.csv',\n",
       " 'Gisela C_task_2021-04-10_12h23.29.417.csv',\n",
       " 'Laia B_task_2021-04-10_12h23.30.264.csv',\n",
       " 'LauraB_task_2021-04-10_12h23.36.697.csv',\n",
       " 'maria c_task_2021-04-10_12h23.49.141.csv',\n",
       " 'Maria S_task_2021-04-10_12h24.16.104.csv',\n",
       " 'Mariona F_task_2021-04-10_12h24.11.919.csv',\n",
       " 'martac_task_2021-04-10_12h23.36.156.csv',\n",
       " 'Paula R_task_2021-04-10_12h24.13.036.csv',\n",
       " 'Pol M_task_2021-04-10_12h24.14.554.csv',\n",
       " 'Queralt_task_2021-04-10_12h22.56.838.csv',\n",
       " 'Salvador T_task_2021-04-10_12h24.27.287.csv',\n",
       " 'sara o_task_2021-04-10_12h25.53.806.csv']"
      ]
     },
     "execution_count": 119,
     "metadata": {},
     "output_type": "execute_result"
    }
   ],
   "source": [
    "filenames = os.listdir('data_to_convert') \n",
    "filenames"
   ]
  },
  {
   "cell_type": "code",
   "execution_count": 120,
   "metadata": {},
   "outputs": [
    {
     "name": "stdout",
     "output_type": "stream",
     "text": [
      "0 Adriana G_task_2021-04-10_12h23.38.261.csv\n",
      "1 Ana Nizet_task_2021-04-10_12h31.09.323.csv\n",
      "2 Andrea B_task_2021-04-10_12h23.37.811.csv\n",
      "3 Anna J_task_2021-04-10_12h23.21.613.csv\n",
      "4 Anna S_task_2021-04-10_12h24.53.028.csv\n",
      "5 BruG_task_2021-04-10_12h24.00.095.csv\n",
      "6 Carla J._task_2021-04-10_11h24.17.595.csv\n",
      "7 Clodagh O_task_2021-04-10_12h23.42.438.csv\n",
      "8 Emma S_task_2021-04-10_12h23.54.820.csv\n",
      "9 Eva T_task_2021-04-10_12h24.10.367.csv\n",
      "10 Gala C_task_2021-04-10_12h24.00.778.csv\n",
      "11 Gisela C_task_2021-04-10_12h23.29.417.csv\n",
      "12 Laia B_task_2021-04-10_12h23.30.264.csv\n",
      "13 LauraB_task_2021-04-10_12h23.36.697.csv\n",
      "14 maria c_task_2021-04-10_12h23.49.141.csv\n",
      "15 Maria S_task_2021-04-10_12h24.16.104.csv\n",
      "16 Mariona F_task_2021-04-10_12h24.11.919.csv\n",
      "17 martac_task_2021-04-10_12h23.36.156.csv\n",
      "18 Paula R_task_2021-04-10_12h24.13.036.csv\n",
      "19 Pol M_task_2021-04-10_12h24.14.554.csv\n",
      "20 Queralt_task_2021-04-10_12h22.56.838.csv\n",
      "21 Salvador T_task_2021-04-10_12h24.27.287.csv\n",
      "22 sara o_task_2021-04-10_12h25.53.806.csv\n"
     ]
    }
   ],
   "source": [
    "frames={}\n",
    "\n",
    "for idx, file in enumerate(filenames):\n",
    "    print(idx, file)\n",
    "    df = pd.read_csv(os.getcwd() + '\\\\data_to_convert\\\\' + file)\n",
    "    ###\n",
    "    df['mouse.x'] = df['mouse.x'].replace(df['mouse.x'].iloc[-1], 0)\n",
    "    df['mouse.y'] = df['mouse.y'].replace(df['mouse.y'].iloc[-1], 0)\n",
    "    df['mouse_2.x'] = df['mouse_2.x'].replace(df['mouse_2.x'].iloc[0], 0)\n",
    "    df['mouse_2.y'] = df['mouse_2.y'].replace(df['mouse_2.y'].iloc[0], 0)\n",
    "    df['mouse_3.x'] = df['mouse_3.x'].replace(df['mouse_3.x'].iloc[0], 0)\n",
    "    df['mouse_3.y'] = df['mouse_3.y'].replace(df['mouse_3.y'].iloc[0], 0)\n",
    "    df['x_resp'] = df['mouse.x'] + df['mouse_2.x']  + df['mouse_3.x']\n",
    "    df['y_resp'] = df['mouse.y'] + df['mouse_2.y']  + df['mouse_3.y']\n",
    "    ###\n",
    "    df_ = df[['target_angle', 'load', 'delay', 'x_resp', 'y_resp']].iloc[0:-1, :]\n",
    "    ###\n",
    "    responses=[]\n",
    "    modules=[]\n",
    "    for i in range(len(df_)):\n",
    "        coordinates_resp = np.array([df_.iloc[i].x_resp, df_.iloc[i].y_resp])\n",
    "        eucl_dists = [euclidean_distance(coordinates_resp, coordinates_[i]) for i in range(len(coordinates_))]\n",
    "        responded_angle = coordinates_angles[np.where(eucl_dists==min(eucl_dists))[0][0]]\n",
    "        responses.append(responded_angle)\n",
    "        #####\n",
    "        Ptraget = coordinates_[np.where(df_.iloc[i].target_angle==coordinates_angles)[0][0]]\n",
    "        mod = euclidean_distance(coordinates_resp, Ptraget)\n",
    "        modules.append(mod)\n",
    "    #\n",
    "    df_['responded'] = responses\n",
    "    df_['module'] = modules\n",
    "    ###\n",
    "    df_['Correct'] = df_['target_angle'] == df_['responded']\n",
    "    df_['Correct'] = df_['Correct'] *1\n",
    "    ### load, delay, x_resp, y_resp, x_target, y_target\n",
    "    x_target=[]\n",
    "    y_target=[]\n",
    "    for i in range(len(df_)):\n",
    "        pos_cord = np.where(df_.iloc[i].target_angle==coordinates_angles)[0][0]\n",
    "        x_target.append(coordinates_[pos_cord][0])\n",
    "        y_target.append(coordinates_[pos_cord][1])\n",
    "    #\n",
    "    df_['x_target'] = x_target\n",
    "    df_['y_target'] = y_target\n",
    "    ###\n",
    "    df_output=df_[['load', 'delay', 'x_resp', 'y_resp', 'x_target', 'y_target']]\n",
    "    name=filenames[idx].split('_')[0]\n",
    "    frames[name] = df_output\n",
    "                \n",
    "                \n",
    "                \n",
    "\n",
    "    \n",
    "   "
   ]
  },
  {
   "cell_type": "code",
   "execution_count": 121,
   "metadata": {},
   "outputs": [],
   "source": [
    "names_sheets= [filenames[i].split('_')[0] for i in range(len(filenames))]\n",
    "all_subjects = pd.concat([frames[names_sheets[i]] for i in range(len(frames.keys()))])\n",
    "frames['all_subjects'] = all_subjects"
   ]
  },
  {
   "cell_type": "code",
   "execution_count": 123,
   "metadata": {},
   "outputs": [],
   "source": [
    "### Save Recosntructions\n",
    "names_sheets= [filenames[i].split('_')[0] for i in range(len(filenames))] + ['all_subjects']\n",
    "writer = pd.ExcelWriter(os.getcwd() + '\\\\pavlovia_results.xlsx')\n",
    "\n",
    "for i in range(len(frames.keys())):\n",
    "    frames[names_sheets[i]].to_excel(writer, sheet_name=names_sheets[i]) #each dataframe in a excel sheet\n",
    "\n",
    "writer.save()   #save reconstructions (heatmaps)"
   ]
  },
  {
   "cell_type": "code",
   "execution_count": null,
   "metadata": {},
   "outputs": [],
   "source": []
  }
 ],
 "metadata": {
  "kernelspec": {
   "display_name": "Python 3",
   "language": "python",
   "name": "python3"
  },
  "language_info": {
   "codemirror_mode": {
    "name": "ipython",
    "version": 3
   },
   "file_extension": ".py",
   "mimetype": "text/x-python",
   "name": "python",
   "nbconvert_exporter": "python",
   "pygments_lexer": "ipython3",
   "version": "3.5.6"
  }
 },
 "nbformat": 4,
 "nbformat_minor": 2
}
